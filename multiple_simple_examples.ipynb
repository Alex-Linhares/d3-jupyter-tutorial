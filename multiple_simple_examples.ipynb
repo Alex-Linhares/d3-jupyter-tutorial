{
 "cells": [
  {
   "cell_type": "markdown",
   "metadata": {},
   "source": [
    "### Configuration for D3"
   ]
  },
  {
   "cell_type": "code",
   "execution_count": 1,
   "metadata": {
    "collapsed": true
   },
   "outputs": [],
   "source": [
    "from IPython.core.display import HTML"
   ]
  },
  {
   "cell_type": "code",
   "execution_count": 2,
   "metadata": {
    "collapsed": true
   },
   "outputs": [],
   "source": [
    "import random\n",
    "import inspect, os\n",
    "from string import Template\n",
    "\n",
    "\n",
    "def this_dir():\n",
    "    this_file = inspect.getfile(inspect.currentframe())\n",
    "    return os.path.dirname(os.path.abspath(inspect.getfile(inspect.currentframe())))\n",
    "\n",
    "\n",
    "def set_styles(css_file_names):\n",
    "    style = ''\n",
    "    for css_file_name in css_file_names:\n",
    "        style += open(this_dir() + '/css/' + css_file_name + '.css','r').read()\n",
    "    return \"<style>\" + style + \"</style>\"\n",
    "\n",
    "\n",
    "def draw_graph(type, data):\n",
    "\n",
    "    JS_text = Template('''\n",
    "    \n",
    "                <div id='maindiv${divnum}'></div>\n",
    "                <script>\n",
    "                    $main_text\n",
    "                </script>\n",
    "\n",
    "                ''')\n",
    "\n",
    "    divnum = int(random.uniform(0,10000))\n",
    "    \n",
    "    main_text_template = Template( open(this_dir() + '/js/' + type + '.js','r').read() )\n",
    "    \n",
    "    main_text = main_text_template.safe_substitute({'divnum': divnum, 'data': str(data)})\n",
    "    return JS_text.safe_substitute({'divnum': divnum, 'main_text': main_text})"
   ]
  },
  {
   "cell_type": "code",
   "execution_count": 3,
   "metadata": {
    "collapsed": false
   },
   "outputs": [
    {
     "data": {
      "text/html": [
       "<style>\n",
       ".axis path,\n",
       ".axis line {\n",
       "    fill: none;\n",
       "    stroke: grey;\n",
       "    stroke-width: 1;\n",
       "    shape-rendering: crispEdges;\n",
       "}\n",
       "\n",
       "\n",
       "/* Based on http://bl.ocks.org/d3noob/b3ff6ae1c120eea654b5 */\n",
       "\n",
       "path { \n",
       "    stroke: steelblue;\n",
       "    stroke-width: 2;\n",
       "    fill: none;\n",
       "}\n",
       "\n",
       "\n",
       "\n",
       "/* Based on http://bl.ocks.org/mbostock/3887118 */\n",
       "\n",
       ".dot {\n",
       "  stroke: #000;\n",
       "}\n",
       "\n",
       "/* http://bl.ocks.org/mbostock/4062045 */\n",
       "\n",
       ".node {\n",
       "  stroke: #fff;\n",
       "  stroke-width: 1.5px;\n",
       "}\n",
       "\n",
       ".link {\n",
       "  stroke: #999;\n",
       "  stroke-opacity: .6;\n",
       "}\n",
       "\n",
       "      rect.bordered {\n",
       "        stroke: #E6E6E6;\n",
       "        stroke-width:2px;   \n",
       "      }\n",
       "\n",
       "      text.mono {\n",
       "        font-size: 9pt;\n",
       "        font-family: Consolas, courier;\n",
       "        fill: #aaa;\n",
       "      }\n",
       "\n",
       "      text.axis-workweek {\n",
       "        fill: #000;\n",
       "      }\n",
       "\n",
       "      text.axis-worktime {\n",
       "        fill: #000;\n",
       "      }</style>"
      ],
      "text/plain": [
       "<IPython.core.display.HTML object>"
      ]
     },
     "execution_count": 3,
     "metadata": {},
     "output_type": "execute_result"
    }
   ],
   "source": [
    "HTML(set_styles(['basic_axis','basic_line','basic_scatter','force_directed_graph','day-hr-heatmap']))"
   ]
  },
  {
   "cell_type": "code",
   "execution_count": 4,
   "metadata": {
    "collapsed": false
   },
   "outputs": [
    {
     "data": {
      "text/html": [
       "<script src=\"lib/d3/d3.min.js\"></script>"
      ],
      "text/plain": [
       "<IPython.core.display.HTML object>"
      ]
     },
     "execution_count": 4,
     "metadata": {},
     "output_type": "execute_result"
    }
   ],
   "source": [
    "HTML('<script src=\"lib/d3/d3.min.js\"></script>')"
   ]
  },
  {
   "cell_type": "markdown",
   "metadata": {},
   "source": [
    "### Use Examples"
   ]
  },
  {
   "cell_type": "code",
   "execution_count": 5,
   "metadata": {
    "collapsed": true
   },
   "outputs": [],
   "source": [
    "import pandas as pd\n",
    "import json\n",
    "import random\n",
    "random.seed(42)"
   ]
  },
  {
   "cell_type": "code",
   "execution_count": 6,
   "metadata": {
    "collapsed": false
   },
   "outputs": [],
   "source": [
    "data = []\n",
    "for i in range(20):\n",
    "    data.append({'x': i, 'y': random.uniform(0,1), 'c': int(random.uniform(0,3))})"
   ]
  },
  {
   "cell_type": "markdown",
   "metadata": {},
   "source": [
    "Based on http://bl.ocks.org/d3noob/b3ff6ae1c120eea654b5 :"
   ]
  },
  {
   "cell_type": "code",
   "execution_count": 7,
   "metadata": {
    "collapsed": false
   },
   "outputs": [
    {
     "data": {
      "text/html": [
       "\n",
       "    \n",
       "                <div id='maindiv7045'></div>\n",
       "                <script>\n",
       "                    \n",
       "// Based on http://bl.ocks.org/d3noob/b3ff6ae1c120eea654b5 :\n",
       "\n",
       "// Set the dimensions of the canvas / graph\n",
       "var margin = {top: 30, right: 20, bottom: 30, left: 50},\n",
       "    width = 600 - margin.left - margin.right,\n",
       "    height = 270 - margin.top - margin.bottom;\n",
       "\n",
       "// Set the ranges\n",
       "var x = d3.scale.linear().range([0, width]);\n",
       "var y = d3.scale.linear().range([height, 0]);\n",
       "\n",
       "// Define the axes\n",
       "var xAxis = d3.svg.axis().scale(x)\n",
       "    .orient(\"bottom\").ticks(5);\n",
       "\n",
       "var yAxis = d3.svg.axis().scale(y)\n",
       "    .orient(\"left\").ticks(5);\n",
       "\n",
       "// Define the line\n",
       "var valueline = d3.svg.line()\n",
       "    .x(function(d) { return x(d.x); })\n",
       "    .y(function(d) { return y(d.y); });\n",
       "    \n",
       "// Adds the svg canvas\n",
       "d3.select(\"#maindiv7045\").selectAll(\"svg\").remove();\n",
       "var svg = d3.select(\"#maindiv7045\")\n",
       "    .append(\"svg\")\n",
       "        .attr(\"width\", width + margin.left + margin.right)\n",
       "        .attr(\"height\", height + margin.top + margin.bottom)\n",
       "    .append(\"g\")\n",
       "        .attr(\"transform\", \n",
       "              \"translate(\" + margin.left + \",\" + margin.top + \")\");\n",
       "\n",
       "// Get the data\n",
       "//d3.csv(\"data.csv\", function(error, data) {\n",
       "var data = [{'y': 0.6394267984578837, 'x': 0, 'c': 0}, {'y': 0.27502931836911926, 'x': 1, 'c': 0}, {'y': 0.7364712141640124, 'x': 2, 'c': 2}, {'y': 0.8921795677048454, 'x': 3, 'c': 0}, {'y': 0.4219218196852704, 'x': 4, 'c': 0}, {'y': 0.21863797480360336, 'x': 5, 'c': 1}, {'y': 0.026535969683863625, 'x': 6, 'c': 0}, {'y': 0.6498844377795232, 'x': 7, 'c': 1}, {'y': 0.2204406220406967, 'x': 8, 'c': 1}, {'y': 0.8094304566778266, 'x': 9, 'c': 0}, {'y': 0.8058192518328079, 'x': 10, 'c': 2}, {'y': 0.3402505165179919, 'x': 11, 'c': 0}, {'y': 0.9572130722067812, 'x': 12, 'c': 1}, {'y': 0.09274584338014791, 'x': 13, 'c': 0}, {'y': 0.8474943663474598, 'x': 14, 'c': 1}, {'y': 0.8071282732743802, 'x': 15, 'c': 2}, {'y': 0.5362280914547007, 'x': 16, 'c': 2}, {'y': 0.3785343772083535, 'x': 17, 'c': 1}, {'y': 0.8294046642529949, 'x': 18, 'c': 1}, {'y': 0.8617069003107772, 'x': 19, 'c': 1}];\n",
       "\n",
       "    data.forEach(function(d) {\n",
       "        d.x = +d.x;\n",
       "        d.y = +d.y;\n",
       "    });\n",
       "\n",
       "    // Scale the range of the data\n",
       "    x.domain(d3.extent(data, function(d) { return d.x; }));\n",
       "    y.domain([0, d3.max(data, function(d) { return d.y; })]);\n",
       "\n",
       "    // Add the valueline path\n",
       "    svg.append(\"path\")\n",
       "        .attr(\"class\", \"line\")\n",
       "        .attr(\"d\", valueline(data));\n",
       "\n",
       "    // Add the X Axis\n",
       "    svg.append(\"g\")\n",
       "        .attr(\"class\", \"x axis\")\n",
       "        .attr(\"transform\", \"translate(0,\" + height + \")\")\n",
       "        .call(xAxis);\n",
       "\n",
       "    // Add the Y Axis\n",
       "    svg.append(\"g\")\n",
       "        .attr(\"class\", \"y axis\")\n",
       "        .call(yAxis);\n",
       "\n",
       "//});\n",
       "\n",
       "                </script>\n",
       "\n",
       "                "
      ],
      "text/plain": [
       "<IPython.core.display.HTML object>"
      ]
     },
     "execution_count": 7,
     "metadata": {},
     "output_type": "execute_result"
    }
   ],
   "source": [
    "HTML(draw_graph('basic_line',data))"
   ]
  },
  {
   "cell_type": "markdown",
   "metadata": {},
   "source": [
    "Based on http://bl.ocks.org/mbostock/3887118 :"
   ]
  },
  {
   "cell_type": "code",
   "execution_count": 8,
   "metadata": {
    "collapsed": false
   },
   "outputs": [
    {
     "data": {
      "text/html": [
       "\n",
       "    \n",
       "                <div id='maindiv458'></div>\n",
       "                <script>\n",
       "                    \n",
       "// Based on http://bl.ocks.org/mbostock/3887118\n",
       "\n",
       "var margin = {top: 20, right: 20, bottom: 30, left: 40},\n",
       "    width = 600 - margin.left - margin.right,\n",
       "    height = 270 - margin.top - margin.bottom;\n",
       "\n",
       "var x = d3.scale.linear()\n",
       "    .range([0, width]);\n",
       "\n",
       "var y = d3.scale.linear()\n",
       "    .range([height, 0]);\n",
       "\n",
       "var color = d3.scale.category10();\n",
       "\n",
       "var xAxis = d3.svg.axis()\n",
       "    .scale(x)\n",
       "    .orient(\"bottom\");\n",
       "\n",
       "var yAxis = d3.svg.axis()\n",
       "    .scale(y)\n",
       "    .orient(\"left\");\n",
       "\n",
       "d3.select(\"#maindiv458\").selectAll(\"svg\").remove();\n",
       "var svg = d3.select(\"#maindiv458\").append(\"svg\")\n",
       "    .attr(\"width\", width + margin.left + margin.right)\n",
       "    .attr(\"height\", height + margin.top + margin.bottom)\n",
       "  .append(\"g\")\n",
       "    .attr(\"transform\", \"translate(\" + margin.left + \",\" + margin.top + \")\");\n",
       "\n",
       "//d3.tsv(\"data.tsv\", function(error, data) {\n",
       "//  if (error) throw error;\n",
       "var data = [{'y': 0.6394267984578837, 'x': 0, 'c': 0}, {'y': 0.27502931836911926, 'x': 1, 'c': 0}, {'y': 0.7364712141640124, 'x': 2, 'c': 2}, {'y': 0.8921795677048454, 'x': 3, 'c': 0}, {'y': 0.4219218196852704, 'x': 4, 'c': 0}, {'y': 0.21863797480360336, 'x': 5, 'c': 1}, {'y': 0.026535969683863625, 'x': 6, 'c': 0}, {'y': 0.6498844377795232, 'x': 7, 'c': 1}, {'y': 0.2204406220406967, 'x': 8, 'c': 1}, {'y': 0.8094304566778266, 'x': 9, 'c': 0}, {'y': 0.8058192518328079, 'x': 10, 'c': 2}, {'y': 0.3402505165179919, 'x': 11, 'c': 0}, {'y': 0.9572130722067812, 'x': 12, 'c': 1}, {'y': 0.09274584338014791, 'x': 13, 'c': 0}, {'y': 0.8474943663474598, 'x': 14, 'c': 1}, {'y': 0.8071282732743802, 'x': 15, 'c': 2}, {'y': 0.5362280914547007, 'x': 16, 'c': 2}, {'y': 0.3785343772083535, 'x': 17, 'c': 1}, {'y': 0.8294046642529949, 'x': 18, 'c': 1}, {'y': 0.8617069003107772, 'x': 19, 'c': 1}];\n",
       "\n",
       "  data.forEach(function(d) {\n",
       "    d.x = +d.x;\n",
       "    d.y = +d.y;\n",
       "  });\n",
       "\n",
       "  x.domain(d3.extent(data, function(d) { return d.x; })).nice();\n",
       "  y.domain(d3.extent(data, function(d) { return d.y; })).nice();\n",
       "\n",
       "  svg.append(\"g\")\n",
       "      .attr(\"class\", \"x axis\")\n",
       "      .attr(\"transform\", \"translate(0,\" + height + \")\")\n",
       "      .call(xAxis);\n",
       "\n",
       "  svg.append(\"g\")\n",
       "      .attr(\"class\", \"y axis\")\n",
       "      .call(yAxis);\n",
       "\n",
       "  svg.selectAll(\".dot\")\n",
       "      .data(data)\n",
       "    .enter().append(\"circle\")\n",
       "      .attr(\"class\", \"dot\")\n",
       "      .attr(\"r\", 3.5)\n",
       "      .attr(\"cx\", function(d) { return x(d.x); })\n",
       "      .attr(\"cy\", function(d) { return y(d.y); })\n",
       "      .style(\"fill\", function(d) { return color(d.c); });\n",
       "\n",
       "  var legend = svg.selectAll(\".legend\")\n",
       "      .data(color.domain())\n",
       "    .enter().append(\"g\")\n",
       "      .attr(\"class\", \"legend\")\n",
       "      .attr(\"transform\", function(d, i) { return \"translate(0,\" + i * 20 + \")\"; });\n",
       "\n",
       "  legend.append(\"rect\")\n",
       "      .attr(\"x\", width - 18)\n",
       "      .attr(\"width\", 18)\n",
       "      .attr(\"height\", 18)\n",
       "      .style(\"fill\", color);\n",
       "\n",
       "  legend.append(\"text\")\n",
       "      .attr(\"x\", width - 24)\n",
       "      .attr(\"y\", 9)\n",
       "      .attr(\"dy\", \".35em\")\n",
       "      .style(\"text-anchor\", \"end\")\n",
       "      .text(function(d) { return d; });\n",
       "\n",
       "//});\n",
       "\n",
       "\n",
       "                </script>\n",
       "\n",
       "                "
      ],
      "text/plain": [
       "<IPython.core.display.HTML object>"
      ]
     },
     "execution_count": 8,
     "metadata": {},
     "output_type": "execute_result"
    }
   ],
   "source": [
    "HTML(draw_graph('basic_scatter',data))"
   ]
  },
  {
   "cell_type": "markdown",
   "metadata": {},
   "source": [
    "Based on http://bl.ocks.org/mbostock/4062045"
   ]
  },
  {
   "cell_type": "code",
   "execution_count": 9,
   "metadata": {
    "collapsed": true
   },
   "outputs": [],
   "source": [
    "graph = {\"nodes\": [], \"links\": []}\n",
    "for i in range(20):\n",
    "    graph[\"nodes\"].append( {\"name\": \"i\" + str(i), \"group\": int(random.uniform(1,11))} )\n",
    "for i in range(20):\n",
    "    for j in range(20):\n",
    "        if random.uniform(0,1) < ((i*j)/400.0) * 0.4:\n",
    "            graph[\"links\"].append( {\"source\": i, \"target\": j, \"value\": random.uniform(0.5,3)} )"
   ]
  },
  {
   "cell_type": "code",
   "execution_count": 10,
   "metadata": {
    "collapsed": false
   },
   "outputs": [
    {
     "data": {
      "text/html": [
       "\n",
       "    \n",
       "                <div id='maindiv6032'></div>\n",
       "                <script>\n",
       "                    \n",
       "// Based on http://bl.ocks.org/mbostock/4062045\n",
       "\n",
       "var width = 960,\n",
       "    height = 500;\n",
       "\n",
       "var color = d3.scale.category20();\n",
       "\n",
       "var force = d3.layout.force()\n",
       "    .charge(-120)\n",
       "    .linkDistance(300)\n",
       "    .size([width, height]);\n",
       "\n",
       "d3.select(\"#maindiv6032\").selectAll(\"svg\").remove();\n",
       "var svg = d3.select(\"#maindiv6032\").append(\"svg\")\n",
       "    .attr(\"width\", width)\n",
       "    .attr(\"height\", height);\n",
       "\n",
       "//d3.json(\"miserables.json\", function(error, graph) {\n",
       "//  if (error) throw error;\n",
       "var graph = {'nodes': [{'group': 3, 'name': 'i0'}, {'group': 3, 'name': 'i1'}, {'group': 1, 'name': 'i2'}, {'group': 3, 'name': 'i3'}, {'group': 2, 'name': 'i4'}, {'group': 3, 'name': 'i5'}, {'group': 7, 'name': 'i6'}, {'group': 4, 'name': 'i7'}, {'group': 4, 'name': 'i8'}, {'group': 3, 'name': 'i9'}, {'group': 3, 'name': 'i10'}, {'group': 10, 'name': 'i11'}, {'group': 7, 'name': 'i12'}, {'group': 7, 'name': 'i13'}, {'group': 2, 'name': 'i14'}, {'group': 8, 'name': 'i15'}, {'group': 2, 'name': 'i16'}, {'group': 4, 'name': 'i17'}, {'group': 10, 'name': 'i18'}, {'group': 7, 'name': 'i19'}], 'links': [{'source': 1, 'target': 18, 'value': 2.3018045484004865}, {'source': 3, 'target': 1, 'value': 1.3103901425116828}, {'source': 6, 'target': 13, 'value': 2.9982061710318164}, {'source': 7, 'target': 19, 'value': 1.960443986147428}, {'source': 9, 'target': 10, 'value': 1.032885780667601}, {'source': 10, 'target': 2, 'value': 2.5427603377886543}, {'source': 10, 'target': 19, 'value': 1.558939431409316}, {'source': 11, 'target': 1, 'value': 2.427798057549068}, {'source': 11, 'target': 7, 'value': 0.6881096501844176}, {'source': 11, 'target': 14, 'value': 1.2706458748253342}, {'source': 12, 'target': 12, 'value': 2.3414111793877055}, {'source': 13, 'target': 9, 'value': 0.9828244708192717}, {'source': 13, 'target': 19, 'value': 2.9260015275555697}, {'source': 14, 'target': 13, 'value': 2.813937913747707}, {'source': 14, 'target': 19, 'value': 2.160594212278181}, {'source': 15, 'target': 9, 'value': 1.5511158344322706}, {'source': 15, 'target': 16, 'value': 1.217284292172318}, {'source': 16, 'target': 7, 'value': 1.7886300247880411}, {'source': 16, 'target': 14, 'value': 0.5610634693170659}, {'source': 16, 'target': 18, 'value': 1.5361025274942983}, {'source': 17, 'target': 5, 'value': 2.377411191546182}, {'source': 17, 'target': 7, 'value': 1.5628654848568353}, {'source': 17, 'target': 11, 'value': 1.122995699149929}, {'source': 18, 'target': 15, 'value': 1.2143203771578812}, {'source': 18, 'target': 16, 'value': 1.2992739210469058}, {'source': 18, 'target': 18, 'value': 1.078153699320467}, {'source': 19, 'target': 13, 'value': 1.3793970066795618}]};\n",
       "\n",
       "  force\n",
       "      .nodes(graph.nodes)\n",
       "      .links(graph.links)\n",
       "      .start();\n",
       "\n",
       "  var link = svg.selectAll(\".link\")\n",
       "      .data(graph.links)\n",
       "    .enter().append(\"line\")\n",
       "      .attr(\"class\", \"link\")\n",
       "      .style(\"stroke-width\", function(d) { return Math.sqrt(d.value); });\n",
       "\n",
       "  var node = svg.selectAll(\".node\")\n",
       "      .data(graph.nodes)\n",
       "    .enter().append(\"circle\")\n",
       "      .attr(\"class\", \"node\")\n",
       "      .attr(\"r\", 5)\n",
       "      .style(\"fill\", function(d) { return color(d.group); })\n",
       "      .call(force.drag);\n",
       "\n",
       "  node.append(\"title\")\n",
       "      .text(function(d) { return d.name; });\n",
       "\n",
       "  force.on(\"tick\", function() {\n",
       "    link.attr(\"x1\", function(d) { return d.source.x; })\n",
       "        .attr(\"y1\", function(d) { return d.source.y; })\n",
       "        .attr(\"x2\", function(d) { return d.target.x; })\n",
       "        .attr(\"y2\", function(d) { return d.target.y; });\n",
       "\n",
       "    node.attr(\"cx\", function(d) { return d.x; })\n",
       "        .attr(\"cy\", function(d) { return d.y; });\n",
       "  });\n",
       "  \n",
       "//});\n",
       "\n",
       "\n",
       "                </script>\n",
       "\n",
       "                "
      ],
      "text/plain": [
       "<IPython.core.display.HTML object>"
      ]
     },
     "execution_count": 10,
     "metadata": {},
     "output_type": "execute_result"
    }
   ],
   "source": [
    "HTML(draw_graph('force_directed_graph',graph))"
   ]
  },
  {
   "cell_type": "markdown",
   "metadata": {},
   "source": [
    "Based on http://bl.ocks.org/tjdecke/5558084"
   ]
  },
  {
   "cell_type": "code",
   "execution_count": 11,
   "metadata": {
    "collapsed": false
   },
   "outputs": [],
   "source": [
    "data = []\n",
    "for d in range(1,8):\n",
    "    for h in range(1,25):\n",
    "        data.append({'day': d, 'hour': h, 'value': int(random.gauss(0,100))})"
   ]
  },
  {
   "cell_type": "code",
   "execution_count": 12,
   "metadata": {
    "collapsed": false
   },
   "outputs": [
    {
     "data": {
      "text/html": [
       "\n",
       "    \n",
       "                <div id='maindiv536'></div>\n",
       "                <script>\n",
       "                    \n",
       "      var margin = { top: 50, right: 0, bottom: 100, left: 30 },\n",
       "          width = 960 - margin.left - margin.right,\n",
       "          height = 430 - margin.top - margin.bottom,\n",
       "          gridSize = Math.floor(width / 24),\n",
       "          legendElementWidth = gridSize*2,\n",
       "          buckets = 9,\n",
       "          colors = [\"#ffffd9\",\"#edf8b1\",\"#c7e9b4\",\"#7fcdbb\",\"#41b6c4\",\"#1d91c0\",\"#225ea8\",\"#253494\",\"#081d58\"], // alternatively colorbrewer.YlGnBu[9]\n",
       "          days = [\"Mo\", \"Tu\", \"We\", \"Th\", \"Fr\", \"Sa\", \"Su\"],\n",
       "          times = [\"1a\", \"2a\", \"3a\", \"4a\", \"5a\", \"6a\", \"7a\", \"8a\", \"9a\", \"10a\", \"11a\", \"12a\", \"1p\", \"2p\", \"3p\", \"4p\", \"5p\", \"6p\", \"7p\", \"8p\", \"9p\", \"10p\", \"11p\", \"12p\"];\n",
       "\n",
       "\n",
       "/*\n",
       "      d3.tsv(\"data.tsv\",\n",
       "        function(d) {\n",
       "          return {\n",
       "            day: +d.day,\n",
       "            hour: +d.hour,\n",
       "            value: +d.value\n",
       "          };\n",
       "        },\n",
       "        function(error, data) {\n",
       "*/\n",
       "\n",
       "var data = [{'value': 12, 'day': 1, 'hour': 1}, {'value': 69, 'day': 1, 'hour': 2}, {'value': -22, 'day': 1, 'hour': 3}, {'value': 9, 'day': 1, 'hour': 4}, {'value': -77, 'day': 1, 'hour': 5}, {'value': 129, 'day': 1, 'hour': 6}, {'value': -49, 'day': 1, 'hour': 7}, {'value': 33, 'day': 1, 'hour': 8}, {'value': -51, 'day': 1, 'hour': 9}, {'value': 10, 'day': 1, 'hour': 10}, {'value': -16, 'day': 1, 'hour': 11}, {'value': -16, 'day': 1, 'hour': 12}, {'value': -101, 'day': 1, 'hour': 13}, {'value': 79, 'day': 1, 'hour': 14}, {'value': 141, 'day': 1, 'hour': 15}, {'value': 24, 'day': 1, 'hour': 16}, {'value': 73, 'day': 1, 'hour': 17}, {'value': 83, 'day': 1, 'hour': 18}, {'value': 92, 'day': 1, 'hour': 19}, {'value': 30, 'day': 1, 'hour': 20}, {'value': 21, 'day': 1, 'hour': 21}, {'value': 86, 'day': 1, 'hour': 22}, {'value': 6, 'day': 1, 'hour': 23}, {'value': -97, 'day': 1, 'hour': 24}, {'value': 2, 'day': 2, 'hour': 1}, {'value': -188, 'day': 2, 'hour': 2}, {'value': 0, 'day': 2, 'hour': 3}, {'value': 41, 'day': 2, 'hour': 4}, {'value': 123, 'day': 2, 'hour': 5}, {'value': 15, 'day': 2, 'hour': 6}, {'value': 92, 'day': 2, 'hour': 7}, {'value': 0, 'day': 2, 'hour': 8}, {'value': -102, 'day': 2, 'hour': 9}, {'value': -141, 'day': 2, 'hour': 10}, {'value': -96, 'day': 2, 'hour': 11}, {'value': -136, 'day': 2, 'hour': 12}, {'value': 63, 'day': 2, 'hour': 13}, {'value': -20, 'day': 2, 'hour': 14}, {'value': 57, 'day': 2, 'hour': 15}, {'value': 7, 'day': 2, 'hour': 16}, {'value': 104, 'day': 2, 'hour': 17}, {'value': 106, 'day': 2, 'hour': 18}, {'value': -64, 'day': 2, 'hour': 19}, {'value': -27, 'day': 2, 'hour': 20}, {'value': -53, 'day': 2, 'hour': 21}, {'value': -162, 'day': 2, 'hour': 22}, {'value': 67, 'day': 2, 'hour': 23}, {'value': 118, 'day': 2, 'hour': 24}, {'value': 0, 'day': 3, 'hour': 1}, {'value': -49, 'day': 3, 'hour': 2}, {'value': 109, 'day': 3, 'hour': 3}, {'value': -234, 'day': 3, 'hour': 4}, {'value': 17, 'day': 3, 'hour': 5}, {'value': 14, 'day': 3, 'hour': 6}, {'value': -57, 'day': 3, 'hour': 7}, {'value': 139, 'day': 3, 'hour': 8}, {'value': 97, 'day': 3, 'hour': 9}, {'value': -26, 'day': 3, 'hour': 10}, {'value': -8, 'day': 3, 'hour': 11}, {'value': -38, 'day': 3, 'hour': 12}, {'value': -51, 'day': 3, 'hour': 13}, {'value': -130, 'day': 3, 'hour': 14}, {'value': 137, 'day': 3, 'hour': 15}, {'value': 102, 'day': 3, 'hour': 16}, {'value': 79, 'day': 3, 'hour': 17}, {'value': -109, 'day': 3, 'hour': 18}, {'value': 208, 'day': 3, 'hour': 19}, {'value': 198, 'day': 3, 'hour': 20}, {'value': 18, 'day': 3, 'hour': 21}, {'value': -90, 'day': 3, 'hour': 22}, {'value': -86, 'day': 3, 'hour': 23}, {'value': 41, 'day': 3, 'hour': 24}, {'value': -91, 'day': 4, 'hour': 1}, {'value': -3, 'day': 4, 'hour': 2}, {'value': 108, 'day': 4, 'hour': 3}, {'value': -150, 'day': 4, 'hour': 4}, {'value': 200, 'day': 4, 'hour': 5}, {'value': 156, 'day': 4, 'hour': 6}, {'value': -123, 'day': 4, 'hour': 7}, {'value': -141, 'day': 4, 'hour': 8}, {'value': -28, 'day': 4, 'hour': 9}, {'value': -103, 'day': 4, 'hour': 10}, {'value': -26, 'day': 4, 'hour': 11}, {'value': -258, 'day': 4, 'hour': 12}, {'value': -22, 'day': 4, 'hour': 13}, {'value': 180, 'day': 4, 'hour': 14}, {'value': -111, 'day': 4, 'hour': 15}, {'value': -27, 'day': 4, 'hour': 16}, {'value': -148, 'day': 4, 'hour': 17}, {'value': 63, 'day': 4, 'hour': 18}, {'value': -22, 'day': 4, 'hour': 19}, {'value': 194, 'day': 4, 'hour': 20}, {'value': 20, 'day': 4, 'hour': 21}, {'value': -37, 'day': 4, 'hour': 22}, {'value': 55, 'day': 4, 'hour': 23}, {'value': -50, 'day': 4, 'hour': 24}, {'value': -133, 'day': 5, 'hour': 1}, {'value': 30, 'day': 5, 'hour': 2}, {'value': -17, 'day': 5, 'hour': 3}, {'value': 16, 'day': 5, 'hour': 4}, {'value': 37, 'day': 5, 'hour': 5}, {'value': -51, 'day': 5, 'hour': 6}, {'value': 42, 'day': 5, 'hour': 7}, {'value': 173, 'day': 5, 'hour': 8}, {'value': -110, 'day': 5, 'hour': 9}, {'value': 173, 'day': 5, 'hour': 10}, {'value': -24, 'day': 5, 'hour': 11}, {'value': -76, 'day': 5, 'hour': 12}, {'value': 242, 'day': 5, 'hour': 13}, {'value': 15, 'day': 5, 'hour': 14}, {'value': 137, 'day': 5, 'hour': 15}, {'value': 81, 'day': 5, 'hour': 16}, {'value': -168, 'day': 5, 'hour': 17}, {'value': 12, 'day': 5, 'hour': 18}, {'value': -52, 'day': 5, 'hour': 19}, {'value': -134, 'day': 5, 'hour': 20}, {'value': -177, 'day': 5, 'hour': 21}, {'value': 10, 'day': 5, 'hour': 22}, {'value': 59, 'day': 5, 'hour': 23}, {'value': 39, 'day': 5, 'hour': 24}, {'value': -30, 'day': 6, 'hour': 1}, {'value': -79, 'day': 6, 'hour': 2}, {'value': -98, 'day': 6, 'hour': 3}, {'value': -55, 'day': 6, 'hour': 4}, {'value': -103, 'day': 6, 'hour': 5}, {'value': -20, 'day': 6, 'hour': 6}, {'value': -2, 'day': 6, 'hour': 7}, {'value': -89, 'day': 6, 'hour': 8}, {'value': -23, 'day': 6, 'hour': 9}, {'value': -76, 'day': 6, 'hour': 10}, {'value': 0, 'day': 6, 'hour': 11}, {'value': 50, 'day': 6, 'hour': 12}, {'value': 17, 'day': 6, 'hour': 13}, {'value': 47, 'day': 6, 'hour': 14}, {'value': -165, 'day': 6, 'hour': 15}, {'value': -37, 'day': 6, 'hour': 16}, {'value': 27, 'day': 6, 'hour': 17}, {'value': 64, 'day': 6, 'hour': 18}, {'value': -159, 'day': 6, 'hour': 19}, {'value': 15, 'day': 6, 'hour': 20}, {'value': 120, 'day': 6, 'hour': 21}, {'value': -17, 'day': 6, 'hour': 22}, {'value': -9, 'day': 6, 'hour': 23}, {'value': 45, 'day': 6, 'hour': 24}, {'value': 24, 'day': 7, 'hour': 1}, {'value': 67, 'day': 7, 'hour': 2}, {'value': 7, 'day': 7, 'hour': 3}, {'value': 15, 'day': 7, 'hour': 4}, {'value': -78, 'day': 7, 'hour': 5}, {'value': -17, 'day': 7, 'hour': 6}, {'value': 125, 'day': 7, 'hour': 7}, {'value': -20, 'day': 7, 'hour': 8}, {'value': -16, 'day': 7, 'hour': 9}, {'value': -49, 'day': 7, 'hour': 10}, {'value': 78, 'day': 7, 'hour': 11}, {'value': -85, 'day': 7, 'hour': 12}, {'value': 91, 'day': 7, 'hour': 13}, {'value': -93, 'day': 7, 'hour': 14}, {'value': -105, 'day': 7, 'hour': 15}, {'value': 20, 'day': 7, 'hour': 16}, {'value': 13, 'day': 7, 'hour': 17}, {'value': 29, 'day': 7, 'hour': 18}, {'value': 106, 'day': 7, 'hour': 19}, {'value': -41, 'day': 7, 'hour': 20}, {'value': 44, 'day': 7, 'hour': 21}, {'value': -90, 'day': 7, 'hour': 22}, {'value': 125, 'day': 7, 'hour': 23}, {'value': 63, 'day': 7, 'hour': 24}];\n",
       "\n",
       "          var colorScale = d3.scale.quantile()\n",
       "              .domain([0, buckets - 1, d3.max(data, function (d) { return d.value; })])\n",
       "              .range(colors);\n",
       "\n",
       "//          var svg = d3.select(\"#chart\").append(\"svg\")\n",
       "          var svg = d3.select(\"#maindiv536\").append(\"svg\")\n",
       "              .attr(\"width\", width + margin.left + margin.right)\n",
       "              .attr(\"height\", height + margin.top + margin.bottom)\n",
       "              .append(\"g\")\n",
       "              .attr(\"transform\", \"translate(\" + margin.left + \",\" + margin.top + \")\");\n",
       "\n",
       "          var dayLabels = svg.selectAll(\".dayLabel\")\n",
       "              .data(days)\n",
       "              .enter().append(\"text\")\n",
       "                .text(function (d) { return d; })\n",
       "                .attr(\"x\", 0)\n",
       "                .attr(\"y\", function (d, i) { return i * gridSize; })\n",
       "                .style(\"text-anchor\", \"end\")\n",
       "                .attr(\"transform\", \"translate(-6,\" + gridSize / 1.5 + \")\")\n",
       "                .attr(\"class\", function (d, i) { return ((i >= 0 && i <= 4) ? \"dayLabel mono axis axis-workweek\" : \"dayLabel mono axis\"); });\n",
       "\n",
       "          var timeLabels = svg.selectAll(\".timeLabel\")\n",
       "              .data(times)\n",
       "              .enter().append(\"text\")\n",
       "                .text(function(d) { return d; })\n",
       "                .attr(\"x\", function(d, i) { return i * gridSize; })\n",
       "                .attr(\"y\", 0)\n",
       "                .style(\"text-anchor\", \"middle\")\n",
       "                .attr(\"transform\", \"translate(\" + gridSize / 2 + \", -6)\")\n",
       "                .attr(\"class\", function(d, i) { return ((i >= 7 && i <= 16) ? \"timeLabel mono axis axis-worktime\" : \"timeLabel mono axis\"); });\n",
       "\n",
       "          var heatMap = svg.selectAll(\".hour\")\n",
       "              .data(data)\n",
       "              .enter().append(\"rect\")\n",
       "              .attr(\"x\", function(d) { return (d.hour - 1) * gridSize; })\n",
       "              .attr(\"y\", function(d) { return (d.day - 1) * gridSize; })\n",
       "              .attr(\"rx\", 4)\n",
       "              .attr(\"ry\", 4)\n",
       "              .attr(\"class\", \"hour bordered\")\n",
       "              .attr(\"width\", gridSize)\n",
       "              .attr(\"height\", gridSize)\n",
       "              .style(\"fill\", colors[0]);\n",
       "\n",
       "          heatMap.transition().duration(1000)\n",
       "              .style(\"fill\", function(d) { return colorScale(d.value); });\n",
       "\n",
       "          heatMap.append(\"title\").text(function(d) { return d.value; });\n",
       "              \n",
       "          var legend = svg.selectAll(\".legend\")\n",
       "              .data([0].concat(colorScale.quantiles()), function(d) { return d; })\n",
       "              .enter().append(\"g\")\n",
       "              .attr(\"class\", \"legend\");\n",
       "\n",
       "          legend.append(\"rect\")\n",
       "            .attr(\"x\", function(d, i) { return legendElementWidth * i; })\n",
       "            .attr(\"y\", height)\n",
       "            .attr(\"width\", legendElementWidth)\n",
       "            .attr(\"height\", gridSize / 2)\n",
       "            .style(\"fill\", function(d, i) { return colors[i]; });\n",
       "\n",
       "          legend.append(\"text\")\n",
       "            .attr(\"class\", \"mono\")\n",
       "            .text(function(d) { return \" \" + Math.round(d); })\n",
       "            .attr(\"x\", function(d, i) { return legendElementWidth * i; })\n",
       "            .attr(\"y\", height + gridSize);\n",
       "\n",
       "/*\n",
       "      });\n",
       "*/\n",
       "\n",
       "\n",
       "                </script>\n",
       "\n",
       "                "
      ],
      "text/plain": [
       "<IPython.core.display.HTML object>"
      ]
     },
     "execution_count": 12,
     "metadata": {},
     "output_type": "execute_result"
    }
   ],
   "source": [
    "HTML(draw_graph('day-hr-heatmap',data))"
   ]
  }
 ],
 "metadata": {
  "kernelspec": {
   "display_name": "Python 2",
   "language": "python",
   "name": "python2"
  },
  "language_info": {
   "codemirror_mode": {
    "name": "ipython",
    "version": 2
   },
   "file_extension": ".py",
   "mimetype": "text/x-python",
   "name": "python",
   "nbconvert_exporter": "python",
   "pygments_lexer": "ipython2",
   "version": "2.7.10"
  }
 },
 "nbformat": 4,
 "nbformat_minor": 0
}
